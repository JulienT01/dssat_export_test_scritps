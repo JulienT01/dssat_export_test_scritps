{
 "cells": [
  {
   "cell_type": "code",
   "execution_count": null,
   "id": "bd351344",
   "metadata": {},
   "outputs": [],
   "source": [
    "echo \"deb [ arch=amd64 ] https://raw.githubusercontent.com/pdidev/repo/ubuntu focal main\" | sudo tee /etc/apt/sources.list.d/pdi.list > /dev/null\n",
    "sudo wget -O /etc/apt/trusted.gpg.d/pdidev-archive-keyring.gpg https://raw.githubusercontent.com/pdidev/repo/ubuntu/pdidev-archive-keyring.gpg\n",
    "sudo chmod a+r /etc/apt/trusted.gpg.d/pdidev-archive-keyring.gpg /etc/apt/sources.list.d/pdi.list\n",
    "sudo apt update\n",
    "sudo apt install pdidev-archive-keyring"
   ]
  },
  {
   "cell_type": "code",
   "execution_count": null,
   "id": "4f23b989",
   "metadata": {},
   "outputs": [],
   "source": [
    "wget https://gac.udc.es/~emilioj/focal.tgz\n",
    "tar -xf focal.tgz\n",
    "cd focal\n",
    "sudo apt install `find . -name \"*.deb\"`"
   ]
  },
  {
   "cell_type": "code",
   "execution_count": null,
   "id": "e62124bd",
   "metadata": {},
   "outputs": [],
   "source": [
    "python ./gym_dssat_pdi/samples/run_env.py"
   ]
  },
  {
   "cell_type": "code",
   "execution_count": null,
   "id": "53cedb57",
   "metadata": {},
   "outputs": [],
   "source": []
  }
 ],
 "metadata": {
  "kernelspec": {
   "display_name": "Python 3 (ipykernel)",
   "language": "python",
   "name": "python3"
  },
  "language_info": {
   "codemirror_mode": {
    "name": "ipython",
    "version": 3
   },
   "file_extension": ".py",
   "mimetype": "text/x-python",
   "name": "python",
   "nbconvert_exporter": "python",
   "pygments_lexer": "ipython3",
   "version": "3.8.10"
  }
 },
 "nbformat": 4,
 "nbformat_minor": 5
}
